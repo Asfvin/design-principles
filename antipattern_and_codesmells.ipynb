{
 "cells": [
  {
   "cell_type": "markdown",
   "metadata": {},
   "source": [
    "What is an Anti-Pattern?\n",
    "----\n",
    "Antipatterns are common solutions to common problems where the solution is ineffective and may result in undesired consequences. An antipattern is different from bad practice when:\n",
    "\n",
    "It is a coding practice that might seem valid on the surface but leads to inefficient, hard-to-maintain or error-prone code. It goes agains the best practices and guidelines for writing clean, readable, and efficient code. \n",
    "\n",
    "It might have performance issues and impact the quality and hinder collaboration with your colleagues.\n",
    "\n",
    "There are three main types of antipattern:\n",
    "- Development: This focuses on coding practices that affect day to day coding practices\n",
    "- Architecture: This concentrates on the high level structure of the code and undermine the coherence of the architecture\n",
    "- Project Management: This revolves around planning and coordination across the team\n",
    "\n",
    "What is a Code Smell?\n",
    "----\n",
    "Code smells are warning signs in your code that hint at deeper issues. These aren't errors and the code will still work, but they can make future development harder and increase the risk of bugs.\n",
    "\n",
    "\n",
    "Objective\n",
    "----\n",
    "This notebook is a compilation of python antipattern and code smells and what are some of the ways to correct them. Not all code smells will have a We will be walking through some of the examples of Anti Pattern on Python. "
   ]
  },
  {
   "cell_type": "markdown",
   "metadata": {},
   "source": [
    "1) Using incorrect data structure for the problem. For example using list for searching membership or using a list for looping up value instead of using dictionary.\n",
    "\n",
    "```Python\n",
    "# Before\n",
    "list_of_jobs = [\n",
    "    \"Data Analyst\",\n",
    "    \"Data Scientist\",\n",
    "    \"Machine Learning Engineer\",\n",
    "    \"Data Engineer\",\n",
    "]\n",
    "\n",
    "print(\"Data Analyst\" in list_of_jobs)\n",
    "\n",
    "# After\n",
    "list_of_jobs = [\n",
    "    \"Data Analyst\",\n",
    "    \"Data Scientist\",\n",
    "    \"Machine Learning Engineer\",\n",
    "    \"Data Engineer\",\n",
    "]\n",
    "list_of_jobs = set(list_of_jobs)\n",
    "\n",
    "print(\"Data Analyst\" in list_of_jobs)\n",
    "```"
   ]
  },
  {
   "cell_type": "markdown",
   "metadata": {},
   "source": [
    "2) Not using List Comprehension. List Comprehension is a powerful utility that combines the creation of list, mapping and filtering. It is a good idea to use List Comprehension whenever possible instead of using map and filter.\n",
    "\n",
    "```Python\n",
    "\n",
    "# Before\n",
    "result = []\n",
    "\n",
    "for _ in range(20):\n",
    "    result.append(_)\n",
    "\n",
    "print(result)\n",
    "\n",
    "# After\n",
    "result = [_ for _ in range(20)]\n",
    "print(result)\n",
    "\n",
    "# OR\n",
    "\n",
    "result = [num for num in range(20) if num % 2 == 0]\n",
    "print(result)\n",
    "```"
   ]
  },
  {
   "cell_type": "markdown",
   "metadata": {},
   "source": [
    "3) Checking for types using type which does not handle subclasses properly.\n",
    " isinstance is a better as it takes into account of superclasses\n",
    "\n",
    "```Python\n",
    "# Before\n",
    "class Shape:\n",
    "    pass\n",
    "\n",
    "class Square(Shape):\n",
    "    pass\n",
    "\n",
    "square = Square()\n",
    "\n",
    "if type(square) == Shape:\n",
    "    print(\"This is a Shape\")\n",
    "\n",
    "# After\n",
    "if isinstance(square, Shape):\n",
    "    print(\"This is a shape\")\n",
    "\n",
    "```"
   ]
  },
  {
   "cell_type": "markdown",
   "metadata": {},
   "source": [
    "4) Overusing `isinstance`. isintance has some issues despite it being better than using type for comparison.\n",
    "\n",
    "- Tight Coupling: It can tightly couple your code to specific types, making it less flexible and harder to maintain. If you later change the type of an object, you might need to update all isinstance checks.\n",
    "\n",
    "- Violation of Polymorphism: It can violate the principles of polymorphism. Instead of relying on the behavior of objects (duck typing), you’re checking their types explicitly, which goes against the dynamic nature of Python.\n",
    "\n",
    "- Code Readability: Overusing isinstance can make your code harder to read and understand. It can lead to complex conditional logic that obscures the main functionality of your code.\n",
    "\n",
    "- Testing and Mocking: It can make testing and mocking more difficult. If your code is tightly coupled to specific types, it can be harder to create mock objects for testing purposes.\n",
    "\n",
    "Alternative would be to\n",
    "\n",
    "- Duck Typing: Rely on the methods and properties of an object rather than its type.\n",
    "\n",
    "- Abstract Base Classes (ABCs): Define a common interface for your objects and use abc module to enforce it. Similar to ducktyping, it is to ensure that a certain method is implemented\n",
    "\n",
    "```Python\n",
    "# Before\n",
    "from dataclasses import dataclass\n",
    "\n",
    "@dataclass\n",
    "class ContractualEmployee:\n",
    "    \"\"\"Controct Employee Data Class\"\"\"\n",
    "    dollar_per_hour: float\n",
    "    hours_worked: int\n",
    "    overtime: int\n",
    "\n",
    "@dataclass\n",
    "class PermanentEmployee:\n",
    "    \"\"\"Permanent Employee Data Class\"\"\"\n",
    "    dollar_per_hour: float\n",
    "    hours_worked: int\n",
    "\n",
    "class Payment:\n",
    "    \"\"\"Class to calculate payment\"\"\"\n",
    "    def calculate_payment(self, employee):\n",
    "        if isinstance(employee, ContractualEmployee):\n",
    "            return employee.dollar_per_hour * employee.hours_worked + employee.overtime\n",
    "        elif isinstance(employee, PermanentEmployee):\n",
    "            return employee.dollar_per_hour * employee.hours_worked\n",
    "\n",
    "# After\n",
    "from typing import Protocol\n",
    "from dataclasses import dataclass\n",
    "\n",
    "class Employee(Protocol):\n",
    "    \"\"\"Employee Base Class\"\"\"\n",
    "    def pay(self):\n",
    "        ...\n",
    "\n",
    "@dataclass\n",
    "class ContractualEmployee(Employee):\n",
    "    \"\"\"Contractual Employee Data Class\"\"\"\n",
    "    dollar_per_hour: float\n",
    "    hours_worked: int\n",
    "    overtime: int\n",
    "\n",
    "    def pay(self):\n",
    "        return self.dollar_per_hour * self.hours_worked + self.overtime\n",
    "\n",
    "@dataclass\n",
    "class PermanentEmployee(Employee):\n",
    "    \"\"\"Permanent Employee Data Class\"\"\"\n",
    "    dollar_per_hour: float\n",
    "    hours_worked: int\n",
    "\n",
    "    def pay(self):\n",
    "        return self.dollar_per_hour * self.hours_worked\n",
    "\n",
    "class Payment:\n",
    "    \"\"\"Class to calculate payment\"\"\"\n",
    "    def calculate_payment(self, employee: Employee):\n",
    "        return employee.pay()\n",
    "```"
   ]
  },
  {
   "cell_type": "markdown",
   "metadata": {},
   "source": [
    "5) Using Global Variables. Global variables are usually considered bad practice as they can be modified from anywhere in the code.\n",
    "\n",
    "```Python\n",
    "# Before\n",
    "count = 0\n",
    "\n",
    "def increment_count():\n",
    "    global count\n",
    "    count += 1\n",
    "\n",
    "increment_count()\n",
    "print(count)\n",
    "\n",
    "increment_count()\n",
    "print(count)\n",
    "\n",
    "# After\n",
    "def increment_count(count):\n",
    "    return count + 1\n",
    "\n",
    "count = 0\n",
    "count = increment_count(count)\n",
    "\n",
    "print(count)\n",
    "```"
   ]
  },
  {
   "cell_type": "markdown",
   "metadata": {},
   "source": [
    "6) Harcoding values without proper explanation\n",
    "\n",
    "```Python\n",
    "# Before\n",
    "price = 30\n",
    "\n",
    "if price > 20:\n",
    "    print(\"Price is too high\")\n",
    "\n",
    "# After\n",
    "# Current maximum price provided by the business operations team\n",
    "THRESHOLD = 20\n",
    "price = 30\n",
    "\n",
    "if price > THRESHOLD:\n",
    "    print(\"Price is too high\")\n",
    "```"
   ]
  },
  {
   "cell_type": "markdown",
   "metadata": {},
   "source": [
    "7) Ensuring that docstring is provided for each software entity. Be consistent with the existing project and follow the specified format."
   ]
  },
  {
   "cell_type": "markdown",
   "metadata": {},
   "source": [
    "8) Avoid Deep Nested Code. This makes the code harder to read and maintain. It is also prone to bugs\n",
    "\n",
    "```Python\n",
    "# Before\n",
    "price = 20\n",
    "\n",
    "if price > 5:\n",
    "    if price < 30:\n",
    "        if price != 25:\n",
    "            print(\"Price is valid\")\n",
    "        else:\n",
    "            print(\"Price is not valid\")\n",
    "    else:\n",
    "        print(\"Price is not valid\")\n",
    "else:\n",
    "    print(\"Price is not valid\")\n",
    "\n",
    "# After\n",
    "# We could use logical operators to flatten the code structure\n",
    "price = 20\n",
    "\n",
    "if price > 5 and price < 30 and price != 25:\n",
    "    print(\"Price is valid\")\n",
    "else:\n",
    "    print(\"Price is not valid\")\n",
    "\n",
    "# OR\n",
    "# We could also use the guard clause instead\n",
    "price = 20\n",
    "\n",
    "if price <= 5:\n",
    "    print(\"Price is not valid\")\n",
    "if price >= 30:\n",
    "    print(\"Price is not valid\")\n",
    "if price == 25:\n",
    "    print(\"Price is not valid\")\n",
    "print(\"Price is valid\")\n",
    "```"
   ]
  },
  {
   "cell_type": "markdown",
   "metadata": {},
   "source": [
    "7) Using Context Manager to ensure that the resource is handled properly to avoid data leakage, unsecured file handling and other unpredictable problems\n",
    "\n",
    "```Python\n",
    "# Before\n",
    "file = open(\"myfile.txt\", \"r\")\n",
    "print(file.read())\n",
    "file.close()\n",
    "\n",
    "# After\n",
    "with open(\"myfile.txt\", \"r\") as file:\n",
    "    print(file.read())"
   ]
  },
  {
   "cell_type": "markdown",
   "metadata": {},
   "source": [
    "8) Using monolithic functions instead of breaking it down to smaller functions/ interface\n",
    " Monolithic functions performs multiple tasks at into a single function.\n",
    "\n",
    "```Python\n",
    "\n",
    "# Before\n",
    "def is_valid_user(user_id):\n",
    "    return True\n",
    "\n",
    "\n",
    "def deduct_amount_from_account(user_id, amount):\n",
    "    return True\n",
    "\n",
    "\n",
    "def process_payment_gateway(amount):\n",
    "    return True\n",
    "\n",
    "\n",
    "def send_payment_notification(user_id, amount):\n",
    "    return True\n",
    "\n",
    "\n",
    "def process_payment(user_id, amount):\n",
    "    if not is_valid_user(user_id):\n",
    "        return \"Invalid User\"\n",
    "\n",
    "    if not deduct_amount_from_account(user_id, amount):\n",
    "        return \"Insufficient Fund\"\n",
    "\n",
    "    if not process_payment_gateway(amount):\n",
    "        return \"Payment processing failed\"\n",
    "\n",
    "    send_payment_notification(user_id, amount)\n",
    "\n",
    "    return \"Payment successful\"\n",
    "\n",
    "\n",
    "# After\n",
    "def process_payment(user_id, amount):\n",
    "    if not is_valid_user(user_id):\n",
    "        return \"Invalid User\"\n",
    "\n",
    "    if not deduct_amount_from_account(user_id, amount):\n",
    "        return \"Insufficient Fund\"\n",
    "\n",
    "    if not process_payment_gateway(amount):\n",
    "        return \"Payment processing failed\"\n",
    "\n",
    "\n",
    "def send_payment_notification(user_id, amount):\n",
    "    send_payment_notification(user_id, amount)\n",
    "\n",
    "\n",
    "def make_payment(user_id, amount):\n",
    "    result = process_payment(user_id, amount)\n",
    "    if result == \"Payment successful\":\n",
    "        send_payment_notification(user_id, amount)\n",
    "    return result\n",
    "```"
   ]
  },
  {
   "cell_type": "markdown",
   "metadata": {},
   "source": [
    "9) Using list/dict/set comprehension unnecessarily without using generators. Some of the functions support generators and some functions get affected when some functions like all or any. Since it uses short-circuting, it will not work when list comprehension is used instead\n",
    "\n",
    "```Python\n",
    "# Before\n",
    "comma_separated_names = \",\".join([name for name in [\"Alice\", \"Bob\", \"Charlie\"]])\n",
    "\n",
    "print(comma_separated_names)\n",
    "\n",
    "# After\n",
    "comma_separated_names = \",\".join(name for name in [\"Alice\", \"Bob\", \"Charlie\"])\n",
    "\n",
    "print(comma_separated_names)\n",
    "```"
   ]
  },
  {
   "cell_type": "markdown",
   "metadata": {},
   "source": [
    "10) Not using get method instead of the dictionary indexing or key access. We can use get method to avoid KeyError and reduce verbosity\n",
    "\n",
    "```Python\n",
    "# Before\n",
    "fruit_prices = {\"apple\": 1, \"orange\": 2}\n",
    "\n",
    "fruit_prices[\"apple\"]\n",
    "\n",
    "# After\n",
    "fruit_prices.get(\"banana\", \"No stock\")\n",
    "```"
   ]
  },
  {
   "cell_type": "markdown",
   "metadata": {},
   "source": [
    "11) Accessing a protected member from outside the class\n",
    "    member prefixed with _ is considered as protected member and should be used within the class and subclass\n",
    "    member prefixed with __ is considered as private member and should be used within the class only\n",
    "\n",
    "    ```Python\n",
    "    class Sample:\n",
    "        def __init__(self):\n",
    "            self._protected_member = \"Protected Member\"\n",
    "            self.__private_member = \"Private Member\"\n",
    "    ```"
   ]
  },
  {
   "cell_type": "markdown",
   "metadata": {},
   "source": [
    "12) Do no overwrite built in functions such as list unless there is a very specific reasons for doing so.Use a variable that does not conflict with these built in functions"
   ]
  },
  {
   "cell_type": "markdown",
   "metadata": {},
   "source": [
    "13) Exception is an event that occurs during execution of a program that disrupts the normal flow of the programs instruction. It is an object that rerpresents an error. You can handle exceptions using the try, except, finally blocks. You could also raise exceptions. It is better to use a more specific exception that the base class Exception. We should move the subclass before the ancestor clause.\n",
    "\n",
    "```python\n",
    "try:\n",
    "    5 / 0\n",
    "except ZeroDivisionError as e:\n",
    "    print(\"ZeroDivisionError\")\n",
    "except Exception as e:\n",
    "    print(\"Exception\")\n",
    "```"
   ]
  },
  {
   "cell_type": "markdown",
   "metadata": {},
   "source": [
    "14) There is no need to explicitly program getters and setters. Utilize the built in property decorators or expose the members as a public property\n",
    "\n",
    "```Python\n",
    "class Square:\n",
    "\n",
    "    def __init__(self, length):\n",
    "        self._length = length\n",
    "\n",
    "    @property\n",
    "    def length(self):\n",
    "        return self._length\n",
    "```\n"
   ]
  },
  {
   "cell_type": "markdown",
   "metadata": {},
   "source": [
    "15) Utilize classmethods when you want to have multiple ways of creating an instance of a class. This reduces the need to have multiple subclasses with different constructors. Use static methods when you want to create a method that is related with the class but does not have the access to instance"
   ]
  },
  {
   "cell_type": "markdown",
   "metadata": {},
   "source": [
    "16) Passing mutable lists or dictionaries as default arguments to a function can have unforeseen consequences. Usually when a programmer uses a list or dictionary as the default argument to a function, the programmer wants the program to create a new list or dictionary every time that the function is called. The default value is evaluated only once when the function is defined. This means that the default value is shared among all the calls to the function."
   ]
  },
  {
   "cell_type": "markdown",
   "metadata": {},
   "source": [
    "\n",
    "17) Use a default dict when there is an expected default value\n",
    "\n",
    "```Python\n",
    "from collections import defaultdict\n",
    "\n",
    "d = defaultdict(lambda: 6)\n",
    "\n",
    "d[\"k\"] += 1\n",
    "\n",
    "print(d[\"k\"])\n",
    "```"
   ]
  },
  {
   "cell_type": "markdown",
   "metadata": {},
   "source": [
    "18) Using for-else statement instead of keeping track of a flag variable. For statement will continue to run until the end of the program and if the break statement is not invoked, the else block will be executed\n",
    "\n",
    "```Python\n",
    "\n",
    "l = [1, 2, 3, 4, 5]\n",
    "magic_number = 3\n",
    "\n",
    "for n in l:\n",
    "    if n == magic_number:\n",
    "        print(\"Magic number found\")\n",
    "        break\n",
    "else:\n",
    "    print(\"Magic number not found\")\n",
    "```"
   ]
  },
  {
   "cell_type": "markdown",
   "metadata": {},
   "source": [
    "15) Use unpacking to assign multiple variables at once \n",
    "```Python\n",
    "elems = [0, 1, 2]\n",
    "\n",
    "elem0, elem1, elem2 = elems\n",
    "\n",
    "```"
   ]
  },
  {
   "cell_type": "markdown",
   "metadata": {},
   "source": [
    "18) Avoid using wildcards when you are importing something. Be specific on what you are importing to reduce polution in the global namespace or to have conflicts with the names. Sometimes, it might not be a good idea to have specific imports as well. It would be better to have a single import statement for the module and then use the members from the modules instead"
   ]
  },
  {
   "cell_type": "markdown",
   "metadata": {},
   "source": [
    "19) When an object is returning more than one variable type such as a Tuple and None, it is better to raise an Exception to be more explicit. Note that, this does not mean the multiple objects cannot be returned but it must of the same time, for example, int with another int or tuple with another tuple\n",
    "\n",
    "```Python\n",
    "\n",
    "# Before\n",
    "def get_secret_code(password):\n",
    "    if password == \"secret\":\n",
    "        return None\n",
    "    else:\n",
    "        return password\n",
    "\n",
    "# After\n",
    "def get_secret_code(password):\n",
    "    if password == \"secret\":\n",
    "        raise ValueError(\"Invalid password\")\n",
    "    else:\n",
    "        return password\n",
    "\n",
    "```"
   ]
  },
  {
   "cell_type": "markdown",
   "metadata": {},
   "source": [
    "20) Do not use a single letter or vague identifier to name the variables without proper explanation or context just to shorten the amount text needed can result in ugly and unreadable code. Verbose but meaningful names are alwasy preferred. Follow the 3M (Memorable, Meaningful and Manageable)\n",
    "\n",
    "```Python\n",
    "# Before\n",
    "amount: float = 20\n",
    "hours: int = 10\n",
    "\n",
    "# After\n",
    "dollar_per_hour: float = 20\n",
    "hours_worked: int = 10\n",
    "```"
   ]
  },
  {
   "cell_type": "markdown",
   "metadata": {},
   "source": [
    "21) Utilize the current standard practice of a python programmer is EAFP (easier to ask for forgiveness than permission) coding style. This coding style assumes that the needed variables, files, etc. exist. Any problems are caught as exception.\n",
    "\n",
    "```Python\n",
    "\n",
    "# Before\n",
    "# Example of asking permission\n",
    "import os\n",
    "\n",
    "if os.path.exists(\"file.txt\"):\n",
    "    os.unlink(\"file.txt\")\n",
    "\n",
    "\n",
    "# After\n",
    "# Example of asking forgiveness\n",
    "try:\n",
    "    os.unlink(\"file.txt\")\n",
    "except FileNotFoundError:\n",
    "    pass\n",
    "\n",
    "```\n"
   ]
  },
  {
   "cell_type": "markdown",
   "metadata": {},
   "source": [
    "22) Comparing None with None should be based on checking for identify instead of equality since None is a singleton object. Alternatively, since None is a falsy value, for control statements, you can directly use the value itself\n",
    "\n",
    "```Python\n",
    "# Before\n",
    "random_value = None\n",
    "\n",
    "if random_value == None:\n",
    "    print(\"Random value is None\")\n",
    "\n",
    "# After\n",
    "if random_value is None:\n",
    "    print(\"Random value is None\")\n",
    "\n",
    "# Or\n",
    "\n",
    "if random_value:\n",
    "    print(\"Random value is None\")\n",
    "```"
   ]
  },
  {
   "cell_type": "markdown",
   "metadata": {},
   "source": [
    "23) You should not use hungarian notation for variable naming as it can be misleading and can be hard to maintain. It is better to use a more descriptive name for the variable. Be consistent with the naming style of the project.\n",
    "\n",
    "```Python\n",
    "\n",
    "n_int = \"Hello World\"\n",
    "\n",
    "```"
   ]
  },
  {
   "cell_type": "markdown",
   "metadata": {},
   "source": [
    "24) Try to not use the exec statement and eval function as they can be dangerous and should be refactored if there is a cleaner method to do it"
   ]
  },
  {
   "cell_type": "markdown",
   "metadata": {},
   "source": [
    "25) Not using enum instead of using string literals. String literals can be anything. Using Enum makes it more explicit and easier to understand. Enum ensures that there is only a limited set of variables that can be passed in and makes extension easier since you can add more variables to the enum.\n",
    "\n",
    "```Python\n",
    "# Before\n",
    "class CheckStatus:\n",
    "    ACTIVE = \"active\"\n",
    "    INACTIVE = \"inactive\"\n",
    "    PENDING = \"pending\"\n",
    "\n",
    "    def check_status=(self, status):\n",
    "        if status == self.ACTIVE:\n",
    "            print(\"Active\")\n",
    "        else:\n",
    "            print(f\"Currently: {status}\")\n",
    "\n",
    "# After\n",
    "from enum import Enum, auto\n",
    "\n",
    "class Status(Enum):\n",
    "    ACTIVE = auto()\n",
    "    INACTIVE = auto()\n",
    "    PENDING = auto()\n",
    "\n",
    "class CheckStatus:\n",
    "    def check_status(self, status: Status):\n",
    "        if status == Status.ACTIVE:\n",
    "            print(\"Active\")\n",
    "        else:\n",
    "            print(f\"Currently: {status}\")\n",
    "```"
   ]
  },
  {
   "cell_type": "markdown",
   "metadata": {},
   "source": [
    "26) Having instance variables of multiple list which interact with each other will lead to unnecessary complications. Instead, try to use an object and then store a list of the object. This will reduce the need of the methods which uses the attributes its implementation.\n",
    "\n",
    "    ```Python\n",
    "    # Before\n",
    "    from dataclasses import dataclass, field\n",
    "    \n",
    "    @dataclass\n",
    "    class Classroom:\n",
    "        student_name: list[str] = field(default_factory=list)\n",
    "        heights: list[str] = field(default_factory=list)\n",
    "        weights: list[str] = field(default_factory=list)\n",
    "\n",
    "        def add_student(self, name: str, height: str, weight: str):\n",
    "            self.student_name.append(name)\n",
    "            self.heights.append(height)\n",
    "            self.weights.append(weight)\n",
    "\n",
    "    # After\n",
    "    @dataclass\n",
    "    class Student:\n",
    "        name: str\n",
    "        height: str\n",
    "        weight: str\n",
    "    \n",
    "    @datclass\n",
    "    class Classroom:\n",
    "        students: list[Student] = field(default_factory=list)\n",
    "\n",
    "        def add_student(self, student: Student):\n",
    "            self.students.append(student)\n",
    "\n",
    "    ```"
   ]
  },
  {
   "cell_type": "markdown",
   "metadata": {},
   "source": [
    "27) Make sure that you are not using misleading names. Are you really creating or are you adding things? This makes it clearer on knowing what is the responsibility."
   ]
  },
  {
   "cell_type": "markdown",
   "metadata": {},
   "source": [
    "28) A class should not have too many instance variables. This indicates that it is doing too much.\n",
    "\n",
    "```Python\n",
    "from dataclasses import dataclass\n",
    "\n",
    "# Before\n",
    "@dataclass\n",
    "class Order:\n",
    "    customer_name: str\n",
    "    customer_age: int\n",
    "    customer_address: str\n",
    "    customer_email: str\n",
    "    order_id: str\n",
    "    order_price: float\n",
    "    order_quantity: int\n",
    "\n",
    "# After\n",
    "@dataclass\n",
    "class Customer:\n",
    "    customer_name: str\n",
    "    customer_age: int\n",
    "    customer_address: str\n",
    "    customer_email: str\n",
    "\n",
    "@dataclass\n",
    "class Order:\n",
    "    customer: Customer\n",
    "    order_id: str\n",
    "    order_price: float\n",
    "    order_quantity: int\n",
    "\n",
    "```"
   ]
  },
  {
   "cell_type": "markdown",
   "metadata": {},
   "source": [
    "29) When a method (subject) that gets a single object (verb) as its only parameter and then performs computation using that object, this is called the Verb/Subject smell or Ask Don't tell principle. The object itself can do the computation without the subject or method having to perform it. This reduces the need for the subject to the know the implementation of the verb"
   ]
  },
  {
   "cell_type": "markdown",
   "metadata": {},
   "source": [
    "30) Law of Demeter (Principle of least knowledge) or Backpedalling. The object should have the least amount of information on the implementation details of the other objects. It should only know about the objects that it interacts with directly. "
   ]
  },
  {
   "cell_type": "markdown",
   "metadata": {},
   "source": [
    "31) Avoid having objects create other objects unless it is really necessary. This allows for removal of dependencies and makes the code more modular."
   ]
  },
  {
   "cell_type": "markdown",
   "metadata": {},
   "source": [
    "32) Rely on keyword arguments instead of using positional argument. This makes it more explicit on what is being set and the order can be changed without any issues. "
   ]
  },
  {
   "cell_type": "markdown",
   "metadata": {},
   "source": [
    "33) Avoid duplicate codes. If there are similar code blocks, either consolidate them or abstract them out using an interface to ensure consistency among codes. This reduces the need to refactor all the common code. This also follows the DRY Principle (Do Not Repeat yourself)"
   ]
  },
  {
   "cell_type": "markdown",
   "metadata": {},
   "source": [
    "34) Do not use boolean as a parameter. This is not a good idea as it has two separate behaviours depending on the value of the flag. This conflicts with the objective of a method since the method should only have one responsibility. You could split the existing method into two separate methods."
   ]
  },
  {
   "cell_type": "markdown",
   "metadata": {},
   "source": [
    "35) Do not use base Exception. Either use the appropriate exception or create a custom exception. This makes it easier to debug and understand the error. Custom exception allows you to store additional values that can be used to modify the message or to debug later on.\n",
    "\n",
    "```Python\n",
    "class CustomError(Exception):\n",
    "    def __init__(self, message: str, code: int):\n",
    "        self.code = code\n",
    "        message = f\"{message} with code {self.code}\"\n",
    "        super().__init__(message)\n",
    "\n",
    "```"
   ]
  },
  {
   "cell_type": "markdown",
   "metadata": {},
   "source": [
    "36) Do not pass Exception as a catch all method where you do not expect it to fail. Either not use the try except block or make explicit statement.\n"
   ]
  },
  {
   "cell_type": "markdown",
   "metadata": {},
   "source": [
    "Feature Envy is a code smell where a method in one class is overly interested in the data of another class. This often indicates that the method should be moved to the class containing the data it uses. Here's an example in Python to illustrate this:\n",
    "\n",
    "### Example of Feature Envy\n",
    "\n",
    "```python\n",
    "class Order:\n",
    "    def __init__(self, items):\n",
    "        self.items = items\n",
    "\n",
    "class OrderProcessor:\n",
    "    def process_order(self, order):\n",
    "        total_price = 0\n",
    "        for item in order.items:\n",
    "            total_price += item.price\n",
    "        return total_price\n",
    "```\n",
    "\n",
    "In this example, the `OrderProcessor` class is more interested in the `items` data of the `Order` class than its own data, which is a sign of Feature Envy.\n",
    "\n",
    "### Refactored Code Without Feature Envy\n",
    "\n",
    "To resolve this, we can move the method to the `Order` class:\n",
    "\n",
    "```python\n",
    "class Order:\n",
    "    def __init__(self, items):\n",
    "        self.items = items\n",
    "\n",
    "    def total_price(self):\n",
    "        total_price = 0\n",
    "        for item in self.items:\n",
    "            total_price += item.price\n",
    "        return total_price\n",
    "\n",
    "class OrderProcessor:\n",
    "    def process_order(self, order):\n",
    "        return order.total_price()\n",
    "```\n"
   ]
  },
  {
   "cell_type": "markdown",
   "metadata": {},
   "source": [
    "References\n",
    "----\n",
    "\n",
    "1) [The Little Book of Python Anti-Patterns](https://github.com/quantifiedcode/python-anti-patterns)\n",
    "2) [What is an Anti-Patterns](https://www.agilealliance.org/glossary/antipattern/#:~:text=Antipatterns%20are%20common%20solutions%20to%20common%20problems%20where)\n",
    "1) [Code Smells Developer Guide](https://www.sonarsource.com/learn/code-smells/#:~:text=Code%20smells%20are%20warning%20signs%20in%20your%20code%20that%20hint)\n",
    "1) [7 Python Code Smells to Avoid at all times](https://www.youtube.com/watch?v=LrtnLEkOwFE&t=648s)\n",
    "1) [Purge these 7 Code Smells From your Python Code](https://www.youtube.com/watch?v=Kl3_Gmn4Ujg&t=605s)\n",
    "1) [More Python Code Smells: Avoid These 7 Smelly Snags](https://www.youtube.com/watch?v=zmWf_cHyo8s&t=284s)"
   ]
  },
  {
   "cell_type": "markdown",
   "metadata": {},
   "source": []
  }
 ],
 "metadata": {
  "kernelspec": {
   "display_name": "Python 3 (ipykernel)",
   "language": "python",
   "name": "python3"
  },
  "language_info": {
   "codemirror_mode": {
    "name": "ipython",
    "version": 3
   },
   "file_extension": ".py",
   "mimetype": "text/x-python",
   "name": "python",
   "nbconvert_exporter": "python",
   "pygments_lexer": "ipython3",
   "version": "3.9.10"
  }
 },
 "nbformat": 4,
 "nbformat_minor": 2
}
